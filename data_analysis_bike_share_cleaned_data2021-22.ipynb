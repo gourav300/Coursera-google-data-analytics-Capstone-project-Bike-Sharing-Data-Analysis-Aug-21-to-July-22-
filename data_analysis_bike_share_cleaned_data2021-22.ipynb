{
 "cells": [
  {
   "cell_type": "markdown",
   "id": "fed8a632-b4c0-421a-b1cb-f730b869113a",
   "metadata": {},
   "source": [
    "<font size=+3 color=\"#3D3D3D\"><center><b>Bike Sharing Data Analysis(Aug-21 to July-22)  🚴 </b></center></font>\n",
    "\n",
    "</center><img src=\"https://images.unsplash.com/photo-1527820096401-94c521276f59?ixlib=rb-1.2.1&ixid=MnwxMjA3fDB8MHxwaG90by1wYWdlfHx8fGVufDB8fHx8&auto=format&fit=crop&w=1740&q=80\" width = 800></center>\n",
    "<center><em>Photo by Ankush Minda (Unsplash)</em></center>\n",
    "</b>"
   ]
  },
  {
   "cell_type": "markdown",
   "id": "b70c3756-aafe-4ac3-9a4a-7ced8cbf804c",
   "metadata": {},
   "source": [
    "### Importing libraries"
   ]
  },
  {
   "cell_type": "code",
   "execution_count": 1,
   "id": "21b23b9d-b188-4a3e-8229-2c3c05e15f4b",
   "metadata": {},
   "outputs": [
    {
     "name": "stdout",
     "output_type": "stream",
     "text": [
      "✔️ Libraries imported successfully!\n"
     ]
    }
   ],
   "source": [
    "import pandas as pd\n",
    "import numpy as np\n",
    "import matplotlib.pyplot as plt\n",
    "%matplotlib inline\n",
    "import seaborn as sns\n",
    "import datetime as dt\n",
    "from datetime import timedelta\n",
    "import plotly.express as px\n",
    "import plotly.io as pio\n",
    "pio.renderers.default = \"iframe\"\n",
    "print('✔️ Libraries imported successfully!')"
   ]
  },
  {
   "cell_type": "markdown",
   "id": "49735150-5d96-4030-95b9-14af30f98806",
   "metadata": {},
   "source": [
    "### Read cleaned bike sharing data for 2021-22"
   ]
  },
  {
   "cell_type": "code",
   "execution_count": 2,
   "id": "596bef25-2732-450b-b55f-c1b0be3f0a36",
   "metadata": {},
   "outputs": [
    {
     "name": "stdout",
     "output_type": "stream",
     "text": [
      "<class 'pandas.core.frame.DataFrame'>\n",
      "RangeIndex: 5114485 entries, 0 to 5114484\n",
      "Data columns (total 15 columns):\n",
      " #   Column              Dtype  \n",
      "---  ------              -----  \n",
      " 0   ride_id             object \n",
      " 1   rideable_type       object \n",
      " 2   started_at          object \n",
      " 3   ended_at            object \n",
      " 4   start_station_name  object \n",
      " 5   start_station_id    object \n",
      " 6   end_station_name    object \n",
      " 7   end_station_id      object \n",
      " 8   start_lat           float64\n",
      " 9   start_lng           float64\n",
      " 10  end_lat             float64\n",
      " 11  end_lng             float64\n",
      " 12  member_casual       object \n",
      " 13  ride_time_minutes   float64\n",
      " 14  day                 object \n",
      "dtypes: float64(5), object(10)\n",
      "memory usage: 585.3+ MB\n"
     ]
    }
   ],
   "source": [
    "df = pd.read_csv(\"bike_sharing_cleaned_2021-2022.csv\")\n",
    "df.info()"
   ]
  },
  {
   "cell_type": "code",
   "execution_count": 3,
   "id": "5a1aa0d0-33c6-4cb3-aa9c-97f09c2599fd",
   "metadata": {},
   "outputs": [
    {
     "name": "stdout",
     "output_type": "stream",
     "text": [
      "<class 'pandas.core.frame.DataFrame'>\n",
      "RangeIndex: 5114485 entries, 0 to 5114484\n",
      "Data columns (total 15 columns):\n",
      " #   Column              Dtype         \n",
      "---  ------              -----         \n",
      " 0   ride_id             object        \n",
      " 1   rideable_type       object        \n",
      " 2   started_at          datetime64[ns]\n",
      " 3   ended_at            datetime64[ns]\n",
      " 4   start_station_name  object        \n",
      " 5   start_station_id    object        \n",
      " 6   end_station_name    object        \n",
      " 7   end_station_id      object        \n",
      " 8   start_lat           float64       \n",
      " 9   start_lng           float64       \n",
      " 10  end_lat             float64       \n",
      " 11  end_lng             float64       \n",
      " 12  member_casual       object        \n",
      " 13  ride_time_minutes   float64       \n",
      " 14  day                 object        \n",
      "dtypes: datetime64[ns](2), float64(5), object(8)\n",
      "memory usage: 585.3+ MB\n"
     ]
    }
   ],
   "source": [
    "# converting \"started_at\" & \"ended_at\" columns in datetime format\n",
    "df[\"started_at\"] = pd.to_datetime(df[\"started_at\"], infer_datetime_format=True)\n",
    "df[\"ended_at\"] = pd.to_datetime(df[\"ended_at\"], infer_datetime_format=True)\n",
    "df.info()"
   ]
  },
  {
   "cell_type": "markdown",
   "id": "8b1797cb-9312-463a-b016-277fb82b10b9",
   "metadata": {},
   "source": [
    "##### Creating month field with format \"month_year\""
   ]
  },
  {
   "cell_type": "code",
   "execution_count": 4,
   "id": "585d8e42-d91e-46f0-9b64-d3c2bdbe6af0",
   "metadata": {},
   "outputs": [],
   "source": [
    "df['month'] = df['started_at'].dt.strftime('%b_%Y')"
   ]
  },
  {
   "cell_type": "markdown",
   "id": "744a91c0-984f-4895-9b06-b99bb7853913",
   "metadata": {},
   "source": [
    "##### Creating time_started field by rounding the started_at field to nearest minute and extracting time element"
   ]
  },
  {
   "cell_type": "code",
   "execution_count": 5,
   "id": "1432facd-00aa-48db-bc76-31b0dc528188",
   "metadata": {},
   "outputs": [
    {
     "name": "stdout",
     "output_type": "stream",
     "text": [
      "✔️ Function defined!\n"
     ]
    }
   ],
   "source": [
    "def minute_rounder(t):\n",
    "    '''\n",
    "    Takes input t as datetime object.\n",
    "    Rounds to nearest minute by adding a timedelta minute if second >= 30\n",
    "    '''\n",
    "\n",
    "    t = t.replace(second=0, minute=t.minute, hour=t.hour) + timedelta(minutes=t.second//30)\n",
    "    # extracting time from datetime\n",
    "    t = t.time()\n",
    "        \n",
    "    return (t)\n",
    "print('✔️ Function defined!')"
   ]
  },
  {
   "cell_type": "code",
   "execution_count": 6,
   "id": "fea9a566-0649-4961-a390-805feaf84548",
   "metadata": {},
   "outputs": [],
   "source": [
    "df[\"time_started\"] = df.started_at.apply(lambda x : minute_rounder(x))"
   ]
  },
  {
   "cell_type": "markdown",
   "id": "f08950ba-3ba3-4940-96a5-6c9515e18279",
   "metadata": {},
   "source": [
    "## Analysis"
   ]
  },
  {
   "cell_type": "markdown",
   "id": "19321f62-6a87-455a-aaf6-0ddd902d67eb",
   "metadata": {},
   "source": [
    "### Top 10 start and end stations for members and casual riders"
   ]
  },
  {
   "cell_type": "code",
   "execution_count": 7,
   "id": "ad9414ef-63ed-4e5c-b6c4-12029bb4c389",
   "metadata": {},
   "outputs": [
    {
     "name": "stdout",
     "output_type": "stream",
     "text": [
      "✔️ Function defined!\n"
     ]
    }
   ],
   "source": [
    "def top_station(rider_type,feature,top_result):\n",
    "    '''\n",
    "    Ploting bar plot of top visiting stations\n",
    "    input - \n",
    "    rider_type -: Plot for category e.g. \"member\" or \"casual\" or \"all\"\n",
    "    feature -: feature to plot e.g. \"start_station_name\", \"end_station_name\"\n",
    "    top_result -: int(number), number of top records to plot e.g. 5\n",
    "    '''\n",
    "    if (rider_type == \"member\") | (rider_type == \"casual\"):\n",
    "        df_temp = df[df[\"member_casual\"] == rider_type]\n",
    "    elif (rider_type == \"all\"):\n",
    "        df_temp = df\n",
    "    else:\n",
    "        return(print('Enter correct rider type \"member\" or \"casual\" or \"all\"'))\n",
    "    df_temp = df_temp[feature].value_counts().reset_index(name = 'count').rename({'index': feature}, axis='columns')\n",
    "    sum_count = df_temp[\"count\"].sum()\n",
    "    df_temp = df_temp[:top_result]\n",
    "    sum_count_top = df_temp[\"count\"].sum()\n",
    "    df_temp.sort_values(by = ['count'], inplace = True)\n",
    "    fig = px.bar(df_temp, x='count', y=feature, text_auto=True,\n",
    "                 labels={\"count\": \"Total Rides\"}\n",
    "                )\n",
    "    fig.update_layout(title = f'Top {top_result} {feature} for {rider_type} riders with {round(sum_count_top *100/sum_count)}% of total {rider_type} rides', title_x=0.5)\n",
    "    fig.show()\n",
    "    \n",
    "    \n",
    "print('✔️ Function defined!')"
   ]
  },
  {
   "cell_type": "code",
   "execution_count": 8,
   "id": "4b5cf11f-c57b-418f-8758-9a530b14bf96",
   "metadata": {},
   "outputs": [
    {
     "name": "stdout",
     "output_type": "stream",
     "text": [
      "✔️ Function defined!\n"
     ]
    }
   ],
   "source": [
    "def top_station_map(rider_type,feature,top_result):\n",
    "    \n",
    "    '''\n",
    "    Ploting bar plot of top visiting stations\n",
    "    input - \n",
    "    rider_type -: Plot for category e.g. \"member\" or \"casual\" or \"all\"\n",
    "    feature -: feature to plot e.g. \"start_station_name\", \"end_station_name\"\n",
    "    top_result -: int(number), number of top records to plot e.g. 5\n",
    "    '''\n",
    "\n",
    "    rider_list = [\"all\",\"member\",\"casual\"]\n",
    "    if (feature == \"start_station_name\") & (rider_type in rider_list):\n",
    "        feature_name = \"Start Stations\"\n",
    "        map_lat = \"start_lat\"\n",
    "        map_lng = \"start_lng\"\n",
    "        if ((rider_type == \"member\") | (rider_type == \"casual\")):\n",
    "            df_temp = df[(df.member_casual == rider_type)].groupby(\n",
    "            [feature, map_lat, map_lng]\n",
    "            ).ride_id.count().reset_index().sort_values(by = ['ride_id'], ascending=False)\n",
    "        elif (rider_type == \"all\"):\n",
    "            df_temp = df.groupby(\n",
    "            [feature, map_lat, map_lng]\n",
    "            ).ride_id.count().reset_index().sort_values(by = ['ride_id'], ascending=False)\n",
    "    elif (feature == \"end_station_name\") & (rider_type in rider_list):\n",
    "        feature_name = \"End Stations\"\n",
    "        map_lat = \"end_lat\"\n",
    "        map_lng = \"end_lng\"\n",
    "        \n",
    "        if ((rider_type == \"member\") | (rider_type == \"casual\")):\n",
    "            df_temp = df[(df.member_casual == rider_type)].groupby(\n",
    "            [feature, map_lat, map_lng]\n",
    "            ).ride_id.count().reset_index().sort_values(by = ['ride_id'], ascending=False)\n",
    "        elif (rider_type == \"all\"):\n",
    "            df_temp = df.groupby(\n",
    "            [feature, map_lat, map_lng]\n",
    "            ).ride_id.count().reset_index().sort_values(by = ['ride_id'], ascending=False)\n",
    "        \n",
    "    else:\n",
    "        return(print('Enter correct rider type(\"member\" or \"casual\" or \"all\") or feature name(\"start_station_name\" or \"end_station_name\")'))\n",
    "    \n",
    "    sum_count = df_temp[\"ride_id\"].sum()\n",
    "    df_temp = df_temp[:top_result]\n",
    "    sum_count_top = df_temp[\"ride_id\"].sum()\n",
    "    df_temp.sort_values(by = ['ride_id'], inplace = True)\n",
    "    # print(df_temp)\n",
    "    fig = px.scatter_mapbox(df_temp,lat= map_lat,lon= map_lng, center = dict(lat =41.896624 , lon = -87.635493),\n",
    "                            mapbox_style = \"open-street-map\" , hover_name = feature, zoom = 12, size = \"ride_id\", color = \"ride_id\",\n",
    "                            color_continuous_scale=px.colors.sequential.Bluered,\n",
    "                            labels={\"ride_id\": \"Total Rides\",\n",
    "                                    \"routes\": \"Routes\",\n",
    "                                    feature : feature_name})\n",
    "    \n",
    "    fig.update_layout(title = f'Map of top {top_result} {feature_name} for {rider_type}  with {round(sum_count_top *100/sum_count)}% of total {rider_type} non-round trip rides', title_x=0.5)\n",
    "    fig.show()\n",
    "print('✔️ Function defined!')\n"
   ]
  },
  {
   "cell_type": "code",
   "execution_count": 9,
   "id": "4183e6e6-dcf7-4c6f-b93f-6be1678377ad",
   "metadata": {},
   "outputs": [
    {
     "data": {
      "text/html": [
       "<iframe\n",
       "    scrolling=\"no\"\n",
       "    width=\"100%\"\n",
       "    height=\"545px\"\n",
       "    src=\"iframe_figures/figure_9.html\"\n",
       "    frameborder=\"0\"\n",
       "    allowfullscreen\n",
       "></iframe>\n"
      ]
     },
     "metadata": {},
     "output_type": "display_data"
    }
   ],
   "source": [
    "top_station(\"member\",\"start_station_name\",5)"
   ]
  },
  {
   "cell_type": "code",
   "execution_count": 10,
   "id": "5dd4996b-c3d2-4691-b0c2-b4019db20599",
   "metadata": {},
   "outputs": [
    {
     "data": {
      "text/html": [
       "<iframe\n",
       "    scrolling=\"no\"\n",
       "    width=\"100%\"\n",
       "    height=\"545px\"\n",
       "    src=\"iframe_figures/figure_10.html\"\n",
       "    frameborder=\"0\"\n",
       "    allowfullscreen\n",
       "></iframe>\n"
      ]
     },
     "metadata": {},
     "output_type": "display_data"
    }
   ],
   "source": [
    "top_station_map(\"member\",\"start_station_name\",5)"
   ]
  },
  {
   "cell_type": "code",
   "execution_count": 11,
   "id": "f5a9ab28-3184-43b2-9aec-5cda0b1e49c4",
   "metadata": {},
   "outputs": [
    {
     "data": {
      "text/html": [
       "<iframe\n",
       "    scrolling=\"no\"\n",
       "    width=\"100%\"\n",
       "    height=\"545px\"\n",
       "    src=\"iframe_figures/figure_11.html\"\n",
       "    frameborder=\"0\"\n",
       "    allowfullscreen\n",
       "></iframe>\n"
      ]
     },
     "metadata": {},
     "output_type": "display_data"
    }
   ],
   "source": [
    "top_station(\"member\",\"end_station_name\",5)"
   ]
  },
  {
   "cell_type": "code",
   "execution_count": 12,
   "id": "617164d8-9dae-4551-8162-b172d442eba2",
   "metadata": {},
   "outputs": [
    {
     "data": {
      "text/html": [
       "<iframe\n",
       "    scrolling=\"no\"\n",
       "    width=\"100%\"\n",
       "    height=\"545px\"\n",
       "    src=\"iframe_figures/figure_12.html\"\n",
       "    frameborder=\"0\"\n",
       "    allowfullscreen\n",
       "></iframe>\n"
      ]
     },
     "metadata": {},
     "output_type": "display_data"
    }
   ],
   "source": [
    "top_station_map(\"member\",\"end_station_name\",5)"
   ]
  },
  {
   "cell_type": "markdown",
   "id": "dec88e12-1d7b-4432-b79e-0c460f1ad756",
   "metadata": {},
   "source": [
    "#### Following are the observations - \n",
    "\n",
    " - Top 5 start and end stations are almost same for member riders, indicating strong hotspot station area for members riders.\n",
    " - **Kingsbury St & Kinzie St** station is most popular station among members with more than **50K start and end station points combined** in past one year.\n",
    " - Difference between number of rides of Top station and 5th top station is of approx **6K** rides with number of rides for top and 5th top station are **25K** and **19k** respectively.   "
   ]
  },
  {
   "cell_type": "code",
   "execution_count": 13,
   "id": "28cf909c-ee48-40e5-bdaa-7534947bbc4d",
   "metadata": {},
   "outputs": [
    {
     "data": {
      "text/html": [
       "<iframe\n",
       "    scrolling=\"no\"\n",
       "    width=\"100%\"\n",
       "    height=\"545px\"\n",
       "    src=\"iframe_figures/figure_13.html\"\n",
       "    frameborder=\"0\"\n",
       "    allowfullscreen\n",
       "></iframe>\n"
      ]
     },
     "metadata": {},
     "output_type": "display_data"
    }
   ],
   "source": [
    "top_station(\"casual\",\"start_station_name\",5)"
   ]
  },
  {
   "cell_type": "code",
   "execution_count": 14,
   "id": "1d2abea9-54f9-49d3-b0b2-9aafa1e327a7",
   "metadata": {},
   "outputs": [
    {
     "data": {
      "text/html": [
       "<iframe\n",
       "    scrolling=\"no\"\n",
       "    width=\"100%\"\n",
       "    height=\"545px\"\n",
       "    src=\"iframe_figures/figure_14.html\"\n",
       "    frameborder=\"0\"\n",
       "    allowfullscreen\n",
       "></iframe>\n"
      ]
     },
     "metadata": {},
     "output_type": "display_data"
    }
   ],
   "source": [
    "top_station_map(\"casual\",\"start_station_name\",5)"
   ]
  },
  {
   "cell_type": "code",
   "execution_count": 15,
   "id": "06eb1349-1f43-4859-8066-ad87e6d82968",
   "metadata": {},
   "outputs": [
    {
     "data": {
      "text/html": [
       "<iframe\n",
       "    scrolling=\"no\"\n",
       "    width=\"100%\"\n",
       "    height=\"545px\"\n",
       "    src=\"iframe_figures/figure_15.html\"\n",
       "    frameborder=\"0\"\n",
       "    allowfullscreen\n",
       "></iframe>\n"
      ]
     },
     "metadata": {},
     "output_type": "display_data"
    }
   ],
   "source": [
    "top_station(\"casual\",\"end_station_name\",5)"
   ]
  },
  {
   "cell_type": "code",
   "execution_count": 16,
   "id": "25d6238a-98fd-4ef9-ac6c-c1cb865b9591",
   "metadata": {},
   "outputs": [
    {
     "data": {
      "text/html": [
       "<iframe\n",
       "    scrolling=\"no\"\n",
       "    width=\"100%\"\n",
       "    height=\"545px\"\n",
       "    src=\"iframe_figures/figure_16.html\"\n",
       "    frameborder=\"0\"\n",
       "    allowfullscreen\n",
       "></iframe>\n"
      ]
     },
     "metadata": {},
     "output_type": "display_data"
    }
   ],
   "source": [
    "top_station_map(\"casual\",\"end_station_name\",5)"
   ]
  },
  {
   "cell_type": "markdown",
   "id": "5b382dbe-e37b-4673-8bba-8d4492f28b83",
   "metadata": {},
   "source": [
    "#### Following are the observations - \n",
    "\n",
    " - Top 5 start and end stations are almost same for casual riders, indicating strong hotspot station area for casual riders.\n",
    " - **Streeter Dr & Grand Ave** station is most popular station among casual riders with more than **123K ride start and end station points combined** in past one year.\n",
    " - Difference between number of rides of Top station and 5th top station is of approx **34K** rides which is huge as compare to member **(6K)**, with number of rides for top and 5th top station are approx **61K** and **27k** respectively.\n",
    " - It is interesting to note that top 5 start & end station for casual riders contains **8%** of total casual rides while for members it is **4%**, which indicates that **casual rides are more concentrated to these stations while member rides are more spread out to other stations**"
   ]
  },
  {
   "cell_type": "markdown",
   "id": "8ec68944-aa48-452a-8378-4a7620f2ce19",
   "metadata": {},
   "source": [
    "### Popular routes"
   ]
  },
  {
   "cell_type": "code",
   "execution_count": 17,
   "id": "6447396a-31d1-4b77-aca9-89de5152848b",
   "metadata": {},
   "outputs": [
    {
     "name": "stdout",
     "output_type": "stream",
     "text": [
      "✔️ Function defined!\n"
     ]
    }
   ],
   "source": [
    "# top round trip stations\n",
    "def top_round_trip(rider_type,top_result):\n",
    "    \n",
    "    '''\n",
    "    Ploting bar plot of top visiting stations for round trips\n",
    "    input - \n",
    "    rider_type -: Plot for category e.g. \"member\" or \"casual or \"all\n",
    "    top_result -: int(number), number of top records to plot e.g. 5\n",
    "    '''\n",
    "    if (rider_type == \"member\") | (rider_type == \"casual\"):\n",
    "        df_temp = df[df[\"member_casual\"] == rider_type]\n",
    "    elif (rider_type == \"all\"):\n",
    "        df_temp = df\n",
    "    else:\n",
    "        return(print('Enter correct rider type \"member\" or \"casual\" or \"all\"'))\n",
    "    \n",
    "    df_temp = df_temp[(df_temp.start_station_name) == (df_temp.end_station_name)\n",
    "                     ][['start_station_name','end_station_name']\n",
    "                      ].value_counts().reset_index(name = 'count')\n",
    "    sum_count = df_temp[\"count\"].sum()\n",
    "    df_temp = df_temp[:top_result]\n",
    "    sum_count_top = df_temp[\"count\"].sum()\n",
    "\n",
    "    df_temp.sort_values(by = ['count'], inplace = True)\n",
    "    \n",
    "    fig = px.bar(df_temp, x='count', y=\"start_station_name\", text_auto=True,\n",
    "                 labels={\"count\": \"Total Rides\",\n",
    "                        \"start_station_name\": \"Station Name\"}\n",
    "                )\n",
    "    fig.update_layout(title = f'Top {top_result} round trip stations for {rider_type} riders with {round(sum_count_top *100/sum_count)}% of total {rider_type} round trip rides', title_x=0.5)\n",
    "    fig.show()\n",
    "print('✔️ Function defined!')"
   ]
  },
  {
   "cell_type": "code",
   "execution_count": 18,
   "id": "1bdae459-2089-4f3e-afda-6340967b777b",
   "metadata": {},
   "outputs": [
    {
     "name": "stdout",
     "output_type": "stream",
     "text": [
      "✔️ Function defined!\n"
     ]
    }
   ],
   "source": [
    "def top_round_trip_map(rider_type,top_result):\n",
    "    \n",
    "    '''\n",
    "    Ploting map of top visiting stations for round trips\n",
    "    input - \n",
    "    rider_type -: Plot for category e.g. \"member\" or \"casual or \"all\n",
    "    top_result -: int(number), number of top records to plot e.g. 5\n",
    "    '''\n",
    "\n",
    "    if (rider_type == \"member\") | (rider_type == \"casual\"):\n",
    "        df_temp = df[df[\"member_casual\"] == rider_type]\n",
    "    elif (rider_type == \"all\"):\n",
    "        df_temp = df\n",
    "    else:\n",
    "        return(print('Enter correct rider type \"member\" or \"casual\" or \"all\"'))\n",
    "    \n",
    "    df_temp = df_temp[(df_temp.start_station_name) == (df_temp.end_station_name)\n",
    "                     ][['start_station_name','start_lat', 'start_lng']\n",
    "                      ].value_counts().reset_index(name = 'count')\n",
    "    sum_count = df_temp[\"count\"].sum()\n",
    "    df_temp = df_temp[:top_result]\n",
    "    sum_count_top = df_temp[\"count\"].sum()\n",
    "\n",
    "    df_temp.sort_values(by = ['count'], inplace = True)\n",
    "    \n",
    "    fig = px.scatter_mapbox(df_temp,lat= \"start_lat\",lon= \"start_lng\", center = dict(lat =41.896624 , lon = -87.635493),\n",
    "                            mapbox_style = \"open-street-map\" , hover_name = \"start_station_name\", zoom = 8, size = \"count\", color = \"count\",\n",
    "                            color_continuous_scale=px.colors.sequential.Bluered,\n",
    "                            labels={\"count\": \"Total Rides\",\n",
    "                                    \"start_station_name\": \"Station name\",\n",
    "                                    })\n",
    "    \n",
    "    fig.update_layout(title = f'Top {top_result} round trip stations map for {rider_type} riders with {round(sum_count_top *100/sum_count)}% of total {rider_type} round trip rides', title_x=0.5)\n",
    "    fig.show()\n",
    "print('✔️ Function defined!')"
   ]
  },
  {
   "cell_type": "code",
   "execution_count": 19,
   "id": "9a3eee6f-0e69-472a-aa8e-9f68fda4c223",
   "metadata": {},
   "outputs": [
    {
     "data": {
      "text/html": [
       "<iframe\n",
       "    scrolling=\"no\"\n",
       "    width=\"100%\"\n",
       "    height=\"545px\"\n",
       "    src=\"iframe_figures/figure_19.html\"\n",
       "    frameborder=\"0\"\n",
       "    allowfullscreen\n",
       "></iframe>\n"
      ]
     },
     "metadata": {},
     "output_type": "display_data"
    }
   ],
   "source": [
    "top_round_trip(\"member\",5)"
   ]
  },
  {
   "cell_type": "code",
   "execution_count": 20,
   "id": "b0ab870f-5dfe-4ac8-ae9b-424ea0916714",
   "metadata": {},
   "outputs": [
    {
     "data": {
      "text/html": [
       "<iframe\n",
       "    scrolling=\"no\"\n",
       "    width=\"100%\"\n",
       "    height=\"545px\"\n",
       "    src=\"iframe_figures/figure_20.html\"\n",
       "    frameborder=\"0\"\n",
       "    allowfullscreen\n",
       "></iframe>\n"
      ]
     },
     "metadata": {},
     "output_type": "display_data"
    }
   ],
   "source": [
    "top_round_trip_map(\"member\",5)"
   ]
  },
  {
   "cell_type": "markdown",
   "id": "65b52859-7297-4886-a99e-57b6de8573e5",
   "metadata": {},
   "source": [
    "#### Following are the observations - \n",
    "    \n",
    "    \n",
    " - Total member round trips are just **4%**(120K rides) of all member ride trips.\n",
    " \n",
    " - **Harold Washington Park** station is most popular round trip station among member riders with approx **6.6K rides** in past one year, as next to it \"Public Rack - Cicero Ave & Cortland St - midblock\" station only got **1.5K** round trip rides.\n",
    " - Also **Harold Washington Park** and **Hyde Park Blvd & 55th St** has same lattitude and longitude data. It can be infered that they are close to each other."
   ]
  },
  {
   "cell_type": "code",
   "execution_count": 21,
   "id": "feb8fd5b-310e-44df-95d5-c560ae19e0d1",
   "metadata": {},
   "outputs": [
    {
     "data": {
      "text/html": [
       "<iframe\n",
       "    scrolling=\"no\"\n",
       "    width=\"100%\"\n",
       "    height=\"545px\"\n",
       "    src=\"iframe_figures/figure_21.html\"\n",
       "    frameborder=\"0\"\n",
       "    allowfullscreen\n",
       "></iframe>\n"
      ]
     },
     "metadata": {},
     "output_type": "display_data"
    }
   ],
   "source": [
    "top_round_trip(\"casual\",5)"
   ]
  },
  {
   "cell_type": "code",
   "execution_count": 22,
   "id": "567a59b2-ef73-4002-af34-9be65ed833e8",
   "metadata": {},
   "outputs": [
    {
     "data": {
      "text/html": [
       "<iframe\n",
       "    scrolling=\"no\"\n",
       "    width=\"100%\"\n",
       "    height=\"545px\"\n",
       "    src=\"iframe_figures/figure_22.html\"\n",
       "    frameborder=\"0\"\n",
       "    allowfullscreen\n",
       "></iframe>\n"
      ]
     },
     "metadata": {},
     "output_type": "display_data"
    }
   ],
   "source": [
    "top_round_trip_map(\"casual\",5)"
   ]
  },
  {
   "cell_type": "markdown",
   "id": "bfd5b4d5-25b6-4b0e-8653-d9d11341db19",
   "metadata": {},
   "source": [
    "#### Following are the observations - \n",
    "    \n",
    "    \n",
    " - Total casual riders round trips are **9%**(203K rides) of all casual ride trips.\n",
    " \n",
    " - **Streeter Dr & Grand Ave** station is most popular round trip station among casual riders with approx **10.6K rides** in past one year.\n",
    " \n",
    " - It is interesting to note that out of **5** top round trip stations **4** stations are **same** as in top 5 start & end stations for casual riders. **\"Streeter Dr & Grand Ave\"** is an important station for casual riders as it **topped start, end and round trip stations list**"
   ]
  },
  {
   "cell_type": "code",
   "execution_count": 23,
   "id": "7a2a4ff3-d075-46ee-b061-1d9e6074b89e",
   "metadata": {},
   "outputs": [
    {
     "name": "stdout",
     "output_type": "stream",
     "text": [
      "✔️ Function defined!\n"
     ]
    }
   ],
   "source": [
    "# Popular routes\n",
    "def popular_routes(rider_type,top_result):\n",
    "    \n",
    "    '''\n",
    "    Ploting bar plot of popular trip routes\n",
    "    input - \n",
    "    rider_type -: Plot for category e.g. \"member\" or \"casual\" or \"all\"\n",
    "    top_result -: int(number), number of top records to plot e.g. 5\n",
    "    '''\n",
    "    \n",
    "    \n",
    "    if (rider_type == \"member\") | (rider_type == \"casual\"):\n",
    "        df_temp = df[((df.start_station_name) != (df.end_station_name)) & (df.member_casual == rider_type)].groupby(\n",
    "        ['start_station_name','end_station_name','start_lat','start_lng','end_lat','end_lng']\n",
    "        ).ride_id.count().reset_index().sort_values(by = ['ride_id'], ascending=False)\n",
    "    elif (rider_type == \"all\"):\n",
    "        df_temp = df[((df.start_station_name) != (df.end_station_name))].groupby(\n",
    "        ['start_station_name','end_station_name','start_lat','start_lng','end_lat','end_lng']\n",
    "        ).ride_id.count().reset_index().sort_values(by = ['ride_id'], ascending=False)\n",
    "    else:\n",
    "        return(print('Enter correct rider type \"member\" or \"casual\" or \"all\"'))\n",
    "    \n",
    "    sum_count = df_temp[\"ride_id\"].sum()\n",
    "    df_temp = df_temp[:top_result]\n",
    "    sum_count_top = df_temp[\"ride_id\"].sum()\n",
    "    df_temp[\"routes\"] = df_temp['start_station_name'] + \"--to--\" + df_temp[\"end_station_name\"]\n",
    "    df_temp.sort_values(by = ['ride_id'], inplace = True)\n",
    "    \n",
    "    fig = px.bar(df_temp, x='ride_id', y=\"routes\", text_auto=True,\n",
    "                 labels={\"ride_id\": \"Total Rides\",\n",
    "                        \"routes\": \"Routes\"}\n",
    "                )\n",
    "    fig.update_layout(title = f'Top {top_result} popular routes for {rider_type}  with {round(sum_count_top *100/sum_count)}% of total {rider_type} non-round trip rides', title_x=0.5)\n",
    "    fig.show()\n",
    "print('✔️ Function defined!')"
   ]
  },
  {
   "cell_type": "code",
   "execution_count": 24,
   "id": "0bcf619d-7972-4a58-8e9a-51e45adfa305",
   "metadata": {},
   "outputs": [
    {
     "data": {
      "text/html": [
       "<iframe\n",
       "    scrolling=\"no\"\n",
       "    width=\"100%\"\n",
       "    height=\"545px\"\n",
       "    src=\"iframe_figures/figure_24.html\"\n",
       "    frameborder=\"0\"\n",
       "    allowfullscreen\n",
       "></iframe>\n"
      ]
     },
     "metadata": {},
     "output_type": "display_data"
    }
   ],
   "source": [
    "popular_routes(\"member\",5)"
   ]
  },
  {
   "cell_type": "code",
   "execution_count": 25,
   "id": "71a7f73d-34b0-4654-b592-b197853b9d9a",
   "metadata": {},
   "outputs": [
    {
     "data": {
      "text/html": [
       "<iframe\n",
       "    scrolling=\"no\"\n",
       "    width=\"100%\"\n",
       "    height=\"545px\"\n",
       "    src=\"iframe_figures/figure_25.html\"\n",
       "    frameborder=\"0\"\n",
       "    allowfullscreen\n",
       "></iframe>\n"
      ]
     },
     "metadata": {},
     "output_type": "display_data"
    }
   ],
   "source": [
    "popular_routes(\"casual\",5)"
   ]
  },
  {
   "cell_type": "markdown",
   "id": "df1b92b3-38f8-48f9-80d9-b3101573886e",
   "metadata": {},
   "source": [
    "#### Following are the observations - \n",
    "    \n",
    "    \n",
    " - As there are **162K** ride routes with different start and end station for **members** and **166K** for **casual riders**. Top 5 or 10 routes doesn't account for significant number of rides\n",
    " \n",
    " - For casual riders all popular routes consits of stations that are in top start and end stations."
   ]
  },
  {
   "cell_type": "markdown",
   "id": "2e092b89-9884-49ab-a6da-6be628a81830",
   "metadata": {},
   "source": [
    "### Bike Type Analysis"
   ]
  },
  {
   "cell_type": "markdown",
   "id": "fa01e40b-1eb0-4a82-8a77-334437a07c8c",
   "metadata": {},
   "source": [
    "#### Prepare bike summary dataframe for member and casual riders"
   ]
  },
  {
   "cell_type": "code",
   "execution_count": 26,
   "id": "5a387c08-1531-490c-adf2-437d67d30a03",
   "metadata": {},
   "outputs": [
    {
     "data": {
      "text/html": [
       "<div>\n",
       "<style scoped>\n",
       "    .dataframe tbody tr th:only-of-type {\n",
       "        vertical-align: middle;\n",
       "    }\n",
       "\n",
       "    .dataframe tbody tr th {\n",
       "        vertical-align: top;\n",
       "    }\n",
       "\n",
       "    .dataframe thead th {\n",
       "        text-align: right;\n",
       "    }\n",
       "</style>\n",
       "<table border=\"1\" class=\"dataframe\">\n",
       "  <thead>\n",
       "    <tr style=\"text-align: right;\">\n",
       "      <th></th>\n",
       "      <th>rideable_type</th>\n",
       "      <th>count</th>\n",
       "      <th>percent_ride</th>\n",
       "      <th>Rider_type</th>\n",
       "    </tr>\n",
       "  </thead>\n",
       "  <tbody>\n",
       "    <tr>\n",
       "      <th>0</th>\n",
       "      <td>classic_bike</td>\n",
       "      <td>1901577</td>\n",
       "      <td>64.59</td>\n",
       "      <td>member</td>\n",
       "    </tr>\n",
       "    <tr>\n",
       "      <th>1</th>\n",
       "      <td>electric_bike</td>\n",
       "      <td>1042365</td>\n",
       "      <td>35.41</td>\n",
       "      <td>member</td>\n",
       "    </tr>\n",
       "    <tr>\n",
       "      <th>2</th>\n",
       "      <td>classic_bike</td>\n",
       "      <td>1121079</td>\n",
       "      <td>51.65</td>\n",
       "      <td>casual</td>\n",
       "    </tr>\n",
       "    <tr>\n",
       "      <th>3</th>\n",
       "      <td>docked_bike</td>\n",
       "      <td>223945</td>\n",
       "      <td>10.32</td>\n",
       "      <td>casual</td>\n",
       "    </tr>\n",
       "    <tr>\n",
       "      <th>4</th>\n",
       "      <td>electric_bike</td>\n",
       "      <td>825519</td>\n",
       "      <td>38.03</td>\n",
       "      <td>casual</td>\n",
       "    </tr>\n",
       "  </tbody>\n",
       "</table>\n",
       "</div>"
      ],
      "text/plain": [
       "   rideable_type    count  percent_ride Rider_type\n",
       "0   classic_bike  1901577         64.59     member\n",
       "1  electric_bike  1042365         35.41     member\n",
       "2   classic_bike  1121079         51.65     casual\n",
       "3    docked_bike   223945         10.32     casual\n",
       "4  electric_bike   825519         38.03     casual"
      ]
     },
     "execution_count": 26,
     "metadata": {},
     "output_type": "execute_result"
    }
   ],
   "source": [
    "temp_df1 = df[df[\"member_casual\"] == \"member\"].groupby(['rideable_type'])['ride_id'].agg(['count'])\n",
    "member_count = temp_df1[\"count\"].sum()\n",
    "temp_df1[\"percent_ride\"] = round(temp_df1[\"count\"]*100/member_count,2)\n",
    "temp_df1['Rider_type'] = \"member\"\n",
    "temp_df1.reset_index(inplace = True)\n",
    "\n",
    "temp_df2 = df[df[\"member_casual\"] == \"casual\"].groupby(['rideable_type'])['ride_id'].agg(['count'])\n",
    "casual_count = temp_df2[\"count\"].sum()\n",
    "temp_df2[\"percent_ride\"] = round(temp_df2[\"count\"]*100/casual_count,2)\n",
    "temp_df2['Rider_type'] = \"casual\"\n",
    "temp_df2.reset_index(inplace = True)\n",
    "\n",
    "df_bike_summary = pd.concat([temp_df1, temp_df2]).reset_index(drop = True)\n",
    "\n",
    "df_bike_summary"
   ]
  },
  {
   "cell_type": "markdown",
   "id": "3bb4b360-de26-4162-809e-29f2d555d0d5",
   "metadata": {},
   "source": [
    "##### Plotting bar plot to get bike wise breakup for member and casual riders"
   ]
  },
  {
   "cell_type": "code",
   "execution_count": 27,
   "id": "c69c41b4-7447-46a5-a6a1-e42fb5f78560",
   "metadata": {},
   "outputs": [
    {
     "data": {
      "text/html": [
       "<iframe\n",
       "    scrolling=\"no\"\n",
       "    width=\"100%\"\n",
       "    height=\"545px\"\n",
       "    src=\"iframe_figures/figure_27.html\"\n",
       "    frameborder=\"0\"\n",
       "    allowfullscreen\n",
       "></iframe>\n"
      ]
     },
     "metadata": {},
     "output_type": "display_data"
    }
   ],
   "source": [
    "fig = px.bar(df_bike_summary, x=\"rideable_type\", y=\"count\",\n",
    "             color='Rider_type', barmode='group',text_auto=True,\n",
    "                  labels={\"rideable_type\": \"Bike Type\",\n",
    "                        \"count\": 'Number of rides'})\n",
    "fig.update_layout(title = f'Bike prefrence for member and casual riders', title_x=0.5)\n",
    "fig.show()"
   ]
  },
  {
   "cell_type": "markdown",
   "id": "50bc0412-1494-49f4-8913-38018292a5eb",
   "metadata": {},
   "source": [
    "##### Plotting bar plot for % of member and casual rides on bikes. e.g. for member rides how much % rides are on classic bike , electric bike"
   ]
  },
  {
   "cell_type": "code",
   "execution_count": 28,
   "id": "1d596b3e-b8d8-468e-b77d-ba0aa1783447",
   "metadata": {},
   "outputs": [
    {
     "data": {
      "text/html": [
       "<iframe\n",
       "    scrolling=\"no\"\n",
       "    width=\"100%\"\n",
       "    height=\"545px\"\n",
       "    src=\"iframe_figures/figure_28.html\"\n",
       "    frameborder=\"0\"\n",
       "    allowfullscreen\n",
       "></iframe>\n"
      ]
     },
     "metadata": {},
     "output_type": "display_data"
    }
   ],
   "source": [
    "fig = px.bar(df_bike_summary, x=\"rideable_type\", y=\"percent_ride\",\n",
    "             color='Rider_type', barmode='group',text_auto=True,\n",
    "                  labels={\"rideable_type\": \"Bike Type\",\n",
    "                        \"percent_ride\": 'Ride percentage(%)'})\n",
    "fig.update_layout(title = f'Bike use % for member and casual rides', title_x=0.5)\n",
    "fig.show()"
   ]
  },
  {
   "cell_type": "markdown",
   "id": "e6180e0f-b5c1-4ee0-91c6-5e5f9fbe8c6e",
   "metadata": {},
   "source": [
    "### Folowing are the observations - \n",
    "\n",
    "- For both members and casual rides classic bike is most used and after that electric bike is used.\n",
    "- Docked bike is only used for casual rides.\n",
    "- For electric bike, number of member rides are **216K** more than casual rides but **38%** of casual rides is on electric bike as compare to **35%** of member rides."
   ]
  },
  {
   "cell_type": "markdown",
   "id": "dfcfd9b9-faf5-4254-a4dd-c55f96047d92",
   "metadata": {},
   "source": [
    "### Ride time analysis"
   ]
  },
  {
   "cell_type": "code",
   "execution_count": 32,
   "id": "8844d769-9c19-48d8-ab02-be22cf6a9adc",
   "metadata": {},
   "outputs": [
    {
     "data": {
      "image/png": "[encoded data removed]",
      "text/plain": [
       "<Figure size 720x504 with 2 Axes>"
      ]
     },
     "metadata": {
      "needs_background": "light"
     },
     "output_type": "display_data"
    }
   ],
   "source": [
    " \n",
    "fig, (ax1, ax2) = plt.subplots(2, figsize = (10,7))\n",
    "#create seaborn histogram\n",
    "sns.boxplot(x = df[df[\"member_casual\"] == \"member\"]['ride_time_minutes'], ax = ax1)\n",
    "sns.boxplot(x = df[df[\"member_casual\"] == \"casual\"]['ride_time_minutes'], ax = ax2)\n",
    "#specfiy axis labels\n",
    "ax1.set(xlabel='Ride Time \"Minutes\"',\n",
    "       title=f'Member rider')\n",
    "ax2.set(xlabel='Ride Time \"Minutes\"',\n",
    "       title=f'Casual rider')\n",
    "fig.suptitle(f'Boxplot for trip ride time, member vs casual riders')\n",
    "#display barplot\n",
    "plt.tight_layout()\n"
   ]
  },
  {
   "cell_type": "code",
   "execution_count": 33,
   "id": "54c04cd0-0306-420b-964e-9662698d3a02",
   "metadata": {},
   "outputs": [
    {
     "data": {
      "text/html": [
       "<div>\n",
       "<style scoped>\n",
       "    .dataframe tbody tr th:only-of-type {\n",
       "        vertical-align: middle;\n",
       "    }\n",
       "\n",
       "    .dataframe tbody tr th {\n",
       "        vertical-align: top;\n",
       "    }\n",
       "\n",
       "    .dataframe thead th {\n",
       "        text-align: right;\n",
       "    }\n",
       "</style>\n",
       "<table border=\"1\" class=\"dataframe\">\n",
       "  <thead>\n",
       "    <tr style=\"text-align: right;\">\n",
       "      <th></th>\n",
       "      <th>count</th>\n",
       "      <th>mean</th>\n",
       "      <th>std</th>\n",
       "      <th>min</th>\n",
       "      <th>25%</th>\n",
       "      <th>50%</th>\n",
       "      <th>75%</th>\n",
       "      <th>max</th>\n",
       "    </tr>\n",
       "  </thead>\n",
       "  <tbody>\n",
       "    <tr>\n",
       "      <th>Member</th>\n",
       "      <td>2943942.0</td>\n",
       "      <td>12.81</td>\n",
       "      <td>18.45</td>\n",
       "      <td>1.0</td>\n",
       "      <td>5.0</td>\n",
       "      <td>9.0</td>\n",
       "      <td>16.0</td>\n",
       "      <td>1500.0</td>\n",
       "    </tr>\n",
       "    <tr>\n",
       "      <th>Casual</th>\n",
       "      <td>2170543.0</td>\n",
       "      <td>25.85</td>\n",
       "      <td>118.09</td>\n",
       "      <td>1.0</td>\n",
       "      <td>9.0</td>\n",
       "      <td>15.0</td>\n",
       "      <td>27.0</td>\n",
       "      <td>41629.0</td>\n",
       "    </tr>\n",
       "  </tbody>\n",
       "</table>\n",
       "</div>"
      ],
      "text/plain": [
       "            count   mean     std  min  25%   50%   75%      max\n",
       "Member  2943942.0  12.81   18.45  1.0  5.0   9.0  16.0   1500.0\n",
       "Casual  2170543.0  25.85  118.09  1.0  9.0  15.0  27.0  41629.0"
      ]
     },
     "execution_count": 33,
     "metadata": {},
     "output_type": "execute_result"
    }
   ],
   "source": [
    "df_ride_time = pd.DataFrame()\n",
    "df_ride_time['Member'] = round(df[df[\"member_casual\"] == \"member\"].ride_time_minutes.describe(),2)\n",
    "df_ride_time['Casual'] = round(df[df[\"member_casual\"] == \"casual\"].ride_time_minutes.describe(),2)\n",
    "df_ride_time.T"
   ]
  },
  {
   "cell_type": "markdown",
   "id": "11a2f0f7-d13d-4ee3-8e78-1dc6a4ebc68b",
   "metadata": {},
   "source": [
    "### Folowing are the observations - \n",
    "\n",
    "- Members took **35%** more *rides* as comapare to casual riders\n",
    "- However *mean ride time* of casual riders are **101%** more than that of members.\n",
    "- There are huge outliers like for member riders the maximum ride time is **1500 minutes** which roughly accounts for **24 hours**. whereas **75%** rides has time **less than 16 minutes**\n",
    "- For casual riders maximum ride time goes over **40000 minutes** which is roughly equal to **28 days**. whereas **75%** rides has time **less than 27 minutes**\n",
    "- Mean values are highly impacted by big outliers, hence in our case median gives us more appropriate estimation of average ride time \n",
    "- *Median* ride time for members and casual riders are **9** and **15** minutes respectively, i.e. *casual riders* ride time is **66%** more than that of member riders. "
   ]
  },
  {
   "cell_type": "markdown",
   "id": "d97f30bf-b39a-4c94-acd6-e5a00030bb64",
   "metadata": {
    "tags": []
   },
   "source": [
    "#### Ride time analysis Daywise"
   ]
  },
  {
   "cell_type": "markdown",
   "id": "060d80f8-39cc-4f6f-8383-768950a96d5d",
   "metadata": {},
   "source": [
    "##### Prepare daywise summary dataframe for member and casual riders"
   ]
  },
  {
   "cell_type": "code",
   "execution_count": 34,
   "id": "c01c6587-fd59-43f7-8944-d82807b9814c",
   "metadata": {},
   "outputs": [
    {
     "data": {
      "text/html": [
       "<div>\n",
       "<style scoped>\n",
       "    .dataframe tbody tr th:only-of-type {\n",
       "        vertical-align: middle;\n",
       "    }\n",
       "\n",
       "    .dataframe tbody tr th {\n",
       "        vertical-align: top;\n",
       "    }\n",
       "\n",
       "    .dataframe thead th {\n",
       "        text-align: right;\n",
       "    }\n",
       "</style>\n",
       "<table border=\"1\" class=\"dataframe\">\n",
       "  <thead>\n",
       "    <tr style=\"text-align: right;\">\n",
       "      <th></th>\n",
       "      <th>day</th>\n",
       "      <th>median</th>\n",
       "      <th>mean</th>\n",
       "      <th>max</th>\n",
       "      <th>min</th>\n",
       "      <th>count</th>\n",
       "      <th>Rider_type</th>\n",
       "    </tr>\n",
       "  </thead>\n",
       "  <tbody>\n",
       "    <tr>\n",
       "      <th>0</th>\n",
       "      <td>Monday</td>\n",
       "      <td>9.0</td>\n",
       "      <td>12.413465</td>\n",
       "      <td>1500.0</td>\n",
       "      <td>1.0</td>\n",
       "      <td>413360</td>\n",
       "      <td>member</td>\n",
       "    </tr>\n",
       "    <tr>\n",
       "      <th>1</th>\n",
       "      <td>Tuesday</td>\n",
       "      <td>9.0</td>\n",
       "      <td>11.992415</td>\n",
       "      <td>1500.0</td>\n",
       "      <td>1.0</td>\n",
       "      <td>459569</td>\n",
       "      <td>member</td>\n",
       "    </tr>\n",
       "    <tr>\n",
       "      <th>2</th>\n",
       "      <td>Wednesday</td>\n",
       "      <td>9.0</td>\n",
       "      <td>12.128772</td>\n",
       "      <td>1500.0</td>\n",
       "      <td>1.0</td>\n",
       "      <td>458359</td>\n",
       "      <td>member</td>\n",
       "    </tr>\n",
       "    <tr>\n",
       "      <th>3</th>\n",
       "      <td>Thrusday</td>\n",
       "      <td>9.0</td>\n",
       "      <td>12.286887</td>\n",
       "      <td>1476.0</td>\n",
       "      <td>1.0</td>\n",
       "      <td>455012</td>\n",
       "      <td>member</td>\n",
       "    </tr>\n",
       "    <tr>\n",
       "      <th>4</th>\n",
       "      <td>Friday</td>\n",
       "      <td>9.0</td>\n",
       "      <td>12.503367</td>\n",
       "      <td>1500.0</td>\n",
       "      <td>1.0</td>\n",
       "      <td>403769</td>\n",
       "      <td>member</td>\n",
       "    </tr>\n",
       "    <tr>\n",
       "      <th>5</th>\n",
       "      <td>Saturday</td>\n",
       "      <td>10.0</td>\n",
       "      <td>14.356297</td>\n",
       "      <td>1500.0</td>\n",
       "      <td>1.0</td>\n",
       "      <td>392033</td>\n",
       "      <td>member</td>\n",
       "    </tr>\n",
       "    <tr>\n",
       "      <th>6</th>\n",
       "      <td>Sunday</td>\n",
       "      <td>10.0</td>\n",
       "      <td>14.511041</td>\n",
       "      <td>1486.0</td>\n",
       "      <td>1.0</td>\n",
       "      <td>361840</td>\n",
       "      <td>member</td>\n",
       "    </tr>\n",
       "    <tr>\n",
       "      <th>7</th>\n",
       "      <td>Monday</td>\n",
       "      <td>15.0</td>\n",
       "      <td>26.719650</td>\n",
       "      <td>32035.0</td>\n",
       "      <td>1.0</td>\n",
       "      <td>257022</td>\n",
       "      <td>casual</td>\n",
       "    </tr>\n",
       "    <tr>\n",
       "      <th>8</th>\n",
       "      <td>Tuesday</td>\n",
       "      <td>13.0</td>\n",
       "      <td>22.525753</td>\n",
       "      <td>15483.0</td>\n",
       "      <td>1.0</td>\n",
       "      <td>233157</td>\n",
       "      <td>casual</td>\n",
       "    </tr>\n",
       "    <tr>\n",
       "      <th>9</th>\n",
       "      <td>Wednesday</td>\n",
       "      <td>13.0</td>\n",
       "      <td>22.194330</td>\n",
       "      <td>30401.0</td>\n",
       "      <td>1.0</td>\n",
       "      <td>239850</td>\n",
       "      <td>casual</td>\n",
       "    </tr>\n",
       "    <tr>\n",
       "      <th>10</th>\n",
       "      <td>Thrusday</td>\n",
       "      <td>13.0</td>\n",
       "      <td>22.773103</td>\n",
       "      <td>27083.0</td>\n",
       "      <td>1.0</td>\n",
       "      <td>269140</td>\n",
       "      <td>casual</td>\n",
       "    </tr>\n",
       "    <tr>\n",
       "      <th>11</th>\n",
       "      <td>Friday</td>\n",
       "      <td>14.0</td>\n",
       "      <td>23.944206</td>\n",
       "      <td>22630.0</td>\n",
       "      <td>1.0</td>\n",
       "      <td>297380</td>\n",
       "      <td>casual</td>\n",
       "    </tr>\n",
       "    <tr>\n",
       "      <th>12</th>\n",
       "      <td>Saturday</td>\n",
       "      <td>17.0</td>\n",
       "      <td>28.322502</td>\n",
       "      <td>40705.0</td>\n",
       "      <td>1.0</td>\n",
       "      <td>459876</td>\n",
       "      <td>casual</td>\n",
       "    </tr>\n",
       "    <tr>\n",
       "      <th>13</th>\n",
       "      <td>Sunday</td>\n",
       "      <td>17.0</td>\n",
       "      <td>29.896822</td>\n",
       "      <td>41629.0</td>\n",
       "      <td>1.0</td>\n",
       "      <td>414118</td>\n",
       "      <td>casual</td>\n",
       "    </tr>\n",
       "  </tbody>\n",
       "</table>\n",
       "</div>"
      ],
      "text/plain": [
       "          day  median       mean      max  min   count Rider_type\n",
       "0      Monday     9.0  12.413465   1500.0  1.0  413360     member\n",
       "1     Tuesday     9.0  11.992415   1500.0  1.0  459569     member\n",
       "2   Wednesday     9.0  12.128772   1500.0  1.0  458359     member\n",
       "3    Thrusday     9.0  12.286887   1476.0  1.0  455012     member\n",
       "4      Friday     9.0  12.503367   1500.0  1.0  403769     member\n",
       "5    Saturday    10.0  14.356297   1500.0  1.0  392033     member\n",
       "6      Sunday    10.0  14.511041   1486.0  1.0  361840     member\n",
       "7      Monday    15.0  26.719650  32035.0  1.0  257022     casual\n",
       "8     Tuesday    13.0  22.525753  15483.0  1.0  233157     casual\n",
       "9   Wednesday    13.0  22.194330  30401.0  1.0  239850     casual\n",
       "10   Thrusday    13.0  22.773103  27083.0  1.0  269140     casual\n",
       "11     Friday    14.0  23.944206  22630.0  1.0  297380     casual\n",
       "12   Saturday    17.0  28.322502  40705.0  1.0  459876     casual\n",
       "13     Sunday    17.0  29.896822  41629.0  1.0  414118     casual"
      ]
     },
     "execution_count": 34,
     "metadata": {},
     "output_type": "execute_result"
    }
   ],
   "source": [
    "cats = [ 'Monday', 'Tuesday', 'Wednesday', 'Thrusday', 'Friday', 'Saturday', 'Sunday']\n",
    "temp_df1 = df[df[\"member_casual\"] == \"member\"].groupby(['day'])['ride_time_minutes'].agg(['median','mean','max', 'min','count']).reindex(cats)\n",
    "temp_df1['Rider_type'] = \"member\"\n",
    "temp_df1.reset_index(inplace = True)\n",
    "temp_df2 = df[df[\"member_casual\"] == \"casual\"].groupby(['day'])['ride_time_minutes'].agg(['median','mean','max', 'min','count']).reindex(cats)\n",
    "temp_df2['Rider_type'] = \"casual\"\n",
    "temp_df2.reset_index(inplace = True)\n",
    "df_day_summary = pd.concat([temp_df1, temp_df2]).reset_index(drop = True)\n",
    "\n",
    "df_day_summary"
   ]
  },
  {
   "cell_type": "markdown",
   "id": "a6f1d502-3c60-42fd-bc59-3bf3a1e20664",
   "metadata": {},
   "source": [
    "##### Plotting bar plot to get daywise breakup of median ride time for member and casual riders"
   ]
  },
  {
   "cell_type": "code",
   "execution_count": 35,
   "id": "0b450ac6-245f-4eb1-859a-bbc24a9d7040",
   "metadata": {},
   "outputs": [
    {
     "data": {
      "text/html": [
       "<iframe\n",
       "    scrolling=\"no\"\n",
       "    width=\"100%\"\n",
       "    height=\"545px\"\n",
       "    src=\"iframe_figures/figure_35.html\"\n",
       "    frameborder=\"0\"\n",
       "    allowfullscreen\n",
       "></iframe>\n"
      ]
     },
     "metadata": {},
     "output_type": "display_data"
    }
   ],
   "source": [
    "fig = px.bar(df_day_summary, x=\"day\", y=\"median\",\n",
    "             color='Rider_type', barmode='group',text_auto=True,\n",
    "                  labels={\"day\": \"Day\",\n",
    "                        \"median\": 'Median ride time \"Minutes\"'})\n",
    "fig.update_layout(title = f'Daywise breakup of median ride time for member and casual riders', title_x=0.5)\n",
    "fig.show()"
   ]
  },
  {
   "cell_type": "markdown",
   "id": "b59b160d-2f14-484f-96ab-a25873174208",
   "metadata": {},
   "source": [
    "#### Following are the observations - \n",
    "    \n",
    "    \n",
    " - Median ride time for members is consistent throughout the weekdays and increased slightly on weekends.\n",
    " \n",
    " - For casual riders ride time first decrease after monday, then remain constant for tuesday to thursday, then again start increasing from friday and remain high for saturday and sunday.\n",
    " \n",
    " - Ride time for both members and casual riders increased on weekends, overall casual riders median ride time is more from members. "
   ]
  },
  {
   "cell_type": "markdown",
   "id": "7643bdc7-f80b-47a3-9457-00f9a1211f95",
   "metadata": {},
   "source": [
    "##### counting daywise breakup of number of rides"
   ]
  },
  {
   "cell_type": "code",
   "execution_count": 36,
   "id": "f5586c2b-ce93-4d15-bee1-755e9b7f8b10",
   "metadata": {},
   "outputs": [
    {
     "data": {
      "text/html": [
       "<iframe\n",
       "    scrolling=\"no\"\n",
       "    width=\"100%\"\n",
       "    height=\"545px\"\n",
       "    src=\"iframe_figures/figure_36.html\"\n",
       "    frameborder=\"0\"\n",
       "    allowfullscreen\n",
       "></iframe>\n"
      ]
     },
     "metadata": {},
     "output_type": "display_data"
    }
   ],
   "source": [
    "\n",
    "fig = px.bar(df_day_summary, x=\"day\", y=\"count\",\n",
    "             color='Rider_type', barmode='group',text_auto=True,\n",
    "                  labels={\"day\": \"Day\",\n",
    "                        \"count\": 'Number of rides'})\n",
    "fig.update_layout(title = f'Daywise breakup of number of rides for member and casual riders', title_x=0.5)\n",
    "fig.show()\n"
   ]
  },
  {
   "cell_type": "markdown",
   "id": "9fdea9b0-dfa3-480c-abe2-6ccc383d1c5e",
   "metadata": {
    "tags": []
   },
   "source": [
    "#### Following are the observations - \n",
    "    \n",
    "    \n",
    " - Number of rides for members is consistent throughout the weekdays and decreased slightly on weekends.\n",
    " \n",
    " - For casual riders number of rides are less on weekdays and increases on weekends.\n",
    " \n",
    " - Members have more number of ride than casual riders on weekdays, but on weekends casual riders have more number of rides.\n",
    " \n",
    " - Overall members have **35%(773K)** more number rides as compare to casual members"
   ]
  },
  {
   "cell_type": "markdown",
   "id": "e5a751fe-0198-4db0-a717-8514042b753e",
   "metadata": {},
   "source": [
    "##### Prepare monthwise summary dataframe for member and casual riders"
   ]
  },
  {
   "cell_type": "code",
   "execution_count": 37,
   "id": "e1580963-6085-4dbf-88da-4268641decec",
   "metadata": {
    "tags": []
   },
   "outputs": [
    {
     "data": {
      "text/html": [
       "<div>\n",
       "<style scoped>\n",
       "    .dataframe tbody tr th:only-of-type {\n",
       "        vertical-align: middle;\n",
       "    }\n",
       "\n",
       "    .dataframe tbody tr th {\n",
       "        vertical-align: top;\n",
       "    }\n",
       "\n",
       "    .dataframe thead th {\n",
       "        text-align: right;\n",
       "    }\n",
       "</style>\n",
       "<table border=\"1\" class=\"dataframe\">\n",
       "  <thead>\n",
       "    <tr style=\"text-align: right;\">\n",
       "      <th></th>\n",
       "      <th>month</th>\n",
       "      <th>median</th>\n",
       "      <th>mean</th>\n",
       "      <th>max</th>\n",
       "      <th>min</th>\n",
       "      <th>count</th>\n",
       "      <th>Rider_type</th>\n",
       "    </tr>\n",
       "  </thead>\n",
       "  <tbody>\n",
       "    <tr>\n",
       "      <th>0</th>\n",
       "      <td>Jan_2022</td>\n",
       "      <td>8.0</td>\n",
       "      <td>11.072866</td>\n",
       "      <td>1500.0</td>\n",
       "      <td>1.0</td>\n",
       "      <td>75522</td>\n",
       "      <td>member</td>\n",
       "    </tr>\n",
       "    <tr>\n",
       "      <th>1</th>\n",
       "      <td>Feb_2022</td>\n",
       "      <td>8.0</td>\n",
       "      <td>11.071371</td>\n",
       "      <td>1466.0</td>\n",
       "      <td>1.0</td>\n",
       "      <td>82470</td>\n",
       "      <td>member</td>\n",
       "    </tr>\n",
       "    <tr>\n",
       "      <th>2</th>\n",
       "      <td>Mar_2022</td>\n",
       "      <td>8.0</td>\n",
       "      <td>12.001703</td>\n",
       "      <td>1500.0</td>\n",
       "      <td>1.0</td>\n",
       "      <td>167913</td>\n",
       "      <td>member</td>\n",
       "    </tr>\n",
       "    <tr>\n",
       "      <th>3</th>\n",
       "      <td>Apr_2022</td>\n",
       "      <td>8.0</td>\n",
       "      <td>11.759198</td>\n",
       "      <td>1500.0</td>\n",
       "      <td>1.0</td>\n",
       "      <td>205152</td>\n",
       "      <td>member</td>\n",
       "    </tr>\n",
       "    <tr>\n",
       "      <th>4</th>\n",
       "      <td>May_2022</td>\n",
       "      <td>10.0</td>\n",
       "      <td>13.397658</td>\n",
       "      <td>1500.0</td>\n",
       "      <td>1.0</td>\n",
       "      <td>307453</td>\n",
       "      <td>member</td>\n",
       "    </tr>\n",
       "    <tr>\n",
       "      <th>5</th>\n",
       "      <td>Jun_2022</td>\n",
       "      <td>10.0</td>\n",
       "      <td>13.793430</td>\n",
       "      <td>1324.0</td>\n",
       "      <td>1.0</td>\n",
       "      <td>350656</td>\n",
       "      <td>member</td>\n",
       "    </tr>\n",
       "    <tr>\n",
       "      <th>6</th>\n",
       "      <td>Jul_2022</td>\n",
       "      <td>10.0</td>\n",
       "      <td>13.616071</td>\n",
       "      <td>1477.0</td>\n",
       "      <td>1.0</td>\n",
       "      <td>357623</td>\n",
       "      <td>member</td>\n",
       "    </tr>\n",
       "    <tr>\n",
       "      <th>7</th>\n",
       "      <td>Aug_2021</td>\n",
       "      <td>10.0</td>\n",
       "      <td>13.842347</td>\n",
       "      <td>1486.0</td>\n",
       "      <td>1.0</td>\n",
       "      <td>357145</td>\n",
       "      <td>member</td>\n",
       "    </tr>\n",
       "    <tr>\n",
       "      <th>8</th>\n",
       "      <td>Sep_2021</td>\n",
       "      <td>10.0</td>\n",
       "      <td>13.460808</td>\n",
       "      <td>1318.0</td>\n",
       "      <td>1.0</td>\n",
       "      <td>354905</td>\n",
       "      <td>member</td>\n",
       "    </tr>\n",
       "    <tr>\n",
       "      <th>9</th>\n",
       "      <td>Oct_2021</td>\n",
       "      <td>9.0</td>\n",
       "      <td>12.334347</td>\n",
       "      <td>1500.0</td>\n",
       "      <td>1.0</td>\n",
       "      <td>321968</td>\n",
       "      <td>member</td>\n",
       "    </tr>\n",
       "    <tr>\n",
       "      <th>10</th>\n",
       "      <td>Nov_2021</td>\n",
       "      <td>8.0</td>\n",
       "      <td>11.235916</td>\n",
       "      <td>1500.0</td>\n",
       "      <td>1.0</td>\n",
       "      <td>211368</td>\n",
       "      <td>member</td>\n",
       "    </tr>\n",
       "    <tr>\n",
       "      <th>11</th>\n",
       "      <td>Dec_2021</td>\n",
       "      <td>8.0</td>\n",
       "      <td>10.874419</td>\n",
       "      <td>1231.0</td>\n",
       "      <td>1.0</td>\n",
       "      <td>151767</td>\n",
       "      <td>member</td>\n",
       "    </tr>\n",
       "    <tr>\n",
       "      <th>12</th>\n",
       "      <td>Jan_2022</td>\n",
       "      <td>10.0</td>\n",
       "      <td>25.325993</td>\n",
       "      <td>29271.0</td>\n",
       "      <td>1.0</td>\n",
       "      <td>15531</td>\n",
       "      <td>casual</td>\n",
       "    </tr>\n",
       "    <tr>\n",
       "      <th>13</th>\n",
       "      <td>Feb_2022</td>\n",
       "      <td>11.0</td>\n",
       "      <td>23.543325</td>\n",
       "      <td>10906.0</td>\n",
       "      <td>1.0</td>\n",
       "      <td>18142</td>\n",
       "      <td>casual</td>\n",
       "    </tr>\n",
       "    <tr>\n",
       "      <th>14</th>\n",
       "      <td>Mar_2022</td>\n",
       "      <td>15.0</td>\n",
       "      <td>27.200828</td>\n",
       "      <td>34354.0</td>\n",
       "      <td>1.0</td>\n",
       "      <td>77091</td>\n",
       "      <td>casual</td>\n",
       "    </tr>\n",
       "    <tr>\n",
       "      <th>15</th>\n",
       "      <td>Apr_2022</td>\n",
       "      <td>15.0</td>\n",
       "      <td>24.778569</td>\n",
       "      <td>7546.0</td>\n",
       "      <td>1.0</td>\n",
       "      <td>106959</td>\n",
       "      <td>casual</td>\n",
       "    </tr>\n",
       "    <tr>\n",
       "      <th>16</th>\n",
       "      <td>May_2022</td>\n",
       "      <td>16.0</td>\n",
       "      <td>26.900964</td>\n",
       "      <td>10723.0</td>\n",
       "      <td>1.0</td>\n",
       "      <td>241487</td>\n",
       "      <td>casual</td>\n",
       "    </tr>\n",
       "    <tr>\n",
       "      <th>17</th>\n",
       "      <td>Jun_2022</td>\n",
       "      <td>15.0</td>\n",
       "      <td>24.493235</td>\n",
       "      <td>6673.0</td>\n",
       "      <td>1.0</td>\n",
       "      <td>315888</td>\n",
       "      <td>casual</td>\n",
       "    </tr>\n",
       "    <tr>\n",
       "      <th>18</th>\n",
       "      <td>Jul_2022</td>\n",
       "      <td>14.0</td>\n",
       "      <td>24.435688</td>\n",
       "      <td>32035.0</td>\n",
       "      <td>1.0</td>\n",
       "      <td>340110</td>\n",
       "      <td>casual</td>\n",
       "    </tr>\n",
       "    <tr>\n",
       "      <th>19</th>\n",
       "      <td>Aug_2021</td>\n",
       "      <td>16.0</td>\n",
       "      <td>28.145462</td>\n",
       "      <td>41629.0</td>\n",
       "      <td>1.0</td>\n",
       "      <td>370089</td>\n",
       "      <td>casual</td>\n",
       "    </tr>\n",
       "    <tr>\n",
       "      <th>20</th>\n",
       "      <td>Sep_2021</td>\n",
       "      <td>16.0</td>\n",
       "      <td>27.477772</td>\n",
       "      <td>32859.0</td>\n",
       "      <td>1.0</td>\n",
       "      <td>323585</td>\n",
       "      <td>casual</td>\n",
       "    </tr>\n",
       "    <tr>\n",
       "      <th>21</th>\n",
       "      <td>Oct_2021</td>\n",
       "      <td>14.0</td>\n",
       "      <td>25.337528</td>\n",
       "      <td>40705.0</td>\n",
       "      <td>1.0</td>\n",
       "      <td>218210</td>\n",
       "      <td>casual</td>\n",
       "    </tr>\n",
       "    <tr>\n",
       "      <th>22</th>\n",
       "      <td>Nov_2021</td>\n",
       "      <td>12.0</td>\n",
       "      <td>21.334671</td>\n",
       "      <td>22280.0</td>\n",
       "      <td>1.0</td>\n",
       "      <td>86488</td>\n",
       "      <td>casual</td>\n",
       "    </tr>\n",
       "    <tr>\n",
       "      <th>23</th>\n",
       "      <td>Dec_2021</td>\n",
       "      <td>11.0</td>\n",
       "      <td>22.901462</td>\n",
       "      <td>30401.0</td>\n",
       "      <td>1.0</td>\n",
       "      <td>56963</td>\n",
       "      <td>casual</td>\n",
       "    </tr>\n",
       "  </tbody>\n",
       "</table>\n",
       "</div>"
      ],
      "text/plain": [
       "       month  median       mean      max  min   count Rider_type\n",
       "0   Jan_2022     8.0  11.072866   1500.0  1.0   75522     member\n",
       "1   Feb_2022     8.0  11.071371   1466.0  1.0   82470     member\n",
       "2   Mar_2022     8.0  12.001703   1500.0  1.0  167913     member\n",
       "3   Apr_2022     8.0  11.759198   1500.0  1.0  205152     member\n",
       "4   May_2022    10.0  13.397658   1500.0  1.0  307453     member\n",
       "5   Jun_2022    10.0  13.793430   1324.0  1.0  350656     member\n",
       "6   Jul_2022    10.0  13.616071   1477.0  1.0  357623     member\n",
       "7   Aug_2021    10.0  13.842347   1486.0  1.0  357145     member\n",
       "8   Sep_2021    10.0  13.460808   1318.0  1.0  354905     member\n",
       "9   Oct_2021     9.0  12.334347   1500.0  1.0  321968     member\n",
       "10  Nov_2021     8.0  11.235916   1500.0  1.0  211368     member\n",
       "11  Dec_2021     8.0  10.874419   1231.0  1.0  151767     member\n",
       "12  Jan_2022    10.0  25.325993  29271.0  1.0   15531     casual\n",
       "13  Feb_2022    11.0  23.543325  10906.0  1.0   18142     casual\n",
       "14  Mar_2022    15.0  27.200828  34354.0  1.0   77091     casual\n",
       "15  Apr_2022    15.0  24.778569   7546.0  1.0  106959     casual\n",
       "16  May_2022    16.0  26.900964  10723.0  1.0  241487     casual\n",
       "17  Jun_2022    15.0  24.493235   6673.0  1.0  315888     casual\n",
       "18  Jul_2022    14.0  24.435688  32035.0  1.0  340110     casual\n",
       "19  Aug_2021    16.0  28.145462  41629.0  1.0  370089     casual\n",
       "20  Sep_2021    16.0  27.477772  32859.0  1.0  323585     casual\n",
       "21  Oct_2021    14.0  25.337528  40705.0  1.0  218210     casual\n",
       "22  Nov_2021    12.0  21.334671  22280.0  1.0   86488     casual\n",
       "23  Dec_2021    11.0  22.901462  30401.0  1.0   56963     casual"
      ]
     },
     "execution_count": 37,
     "metadata": {},
     "output_type": "execute_result"
    }
   ],
   "source": [
    "cats = [ 'Jan_2022', 'Feb_2022', 'Mar_2022', 'Apr_2022', 'May_2022', 'Jun_2022', 'Jul_2022', 'Aug_2021','Sep_2021','Oct_2021','Nov_2021','Dec_2021']\n",
    "\n",
    "temp_df1 = df[df[\"member_casual\"] == \"member\"].groupby(['month'])['ride_time_minutes'].agg(['median','mean','max', 'min','count']).reindex(cats)\n",
    "temp_df1['Rider_type'] = \"member\"\n",
    "temp_df1.reset_index(inplace = True)\n",
    "\n",
    "temp_df2 = df[df[\"member_casual\"] == \"casual\"].groupby(['month'])['ride_time_minutes'].agg(['median','mean','max', 'min','count']).reindex(cats)\n",
    "temp_df2['Rider_type'] = \"casual\"\n",
    "temp_df2.reset_index(inplace = True)\n",
    "\n",
    "df_month_summary = pd.concat([temp_df1, temp_df2]).reset_index(drop = True)\n",
    "\n",
    "df_month_summary"
   ]
  },
  {
   "cell_type": "markdown",
   "id": "c2fe8a13-85dc-4017-985b-23ce958117fc",
   "metadata": {},
   "source": [
    "##### Plotting bar plot to get monthwise breakup of median ride time for member and casual riders"
   ]
  },
  {
   "cell_type": "code",
   "execution_count": 38,
   "id": "2fed4104-316f-4e1a-bcca-f60b5425df91",
   "metadata": {},
   "outputs": [
    {
     "data": {
      "text/html": [
       "<iframe\n",
       "    scrolling=\"no\"\n",
       "    width=\"100%\"\n",
       "    height=\"545px\"\n",
       "    src=\"iframe_figures/figure_38.html\"\n",
       "    frameborder=\"0\"\n",
       "    allowfullscreen\n",
       "></iframe>\n"
      ]
     },
     "metadata": {},
     "output_type": "display_data"
    }
   ],
   "source": [
    "fig = px.bar(df_month_summary, x=\"month\", y=\"median\",\n",
    "             color='Rider_type', barmode='group',text_auto=True,\n",
    "                  labels={\"day\": \"Month\",\n",
    "                        \"median\": 'Median ride time \"Minutes\"'})\n",
    "fig.update_layout(title = f'Monthwise breakup of median ride time for member and casual riders', title_x=0.5)\n",
    "fig.show()\n"
   ]
  },
  {
   "cell_type": "markdown",
   "id": "7b3c1270-062e-4ae6-8797-7d9ced602399",
   "metadata": {
    "tags": []
   },
   "source": [
    "#### Following are the observations - \n",
    "    \n",
    "    \n",
    " - For members median ride time is consistent most in spring and summer season **(May to September)** and again it decreases before onset of winters and remains constant **(November to April)**.\n",
    " \n",
    " - For casual riders median ride time is not consistent althogh it remains high but fluctuate up and down from **March to October**, and then it decreases in winters and fluctuating up and down from **November to Feburary**.\n",
    " \n",
    " - Ride time for both members and casual riders **increased in spring and summer while decrease in winters**, overall casual riders median ride time is more from members."
   ]
  },
  {
   "cell_type": "markdown",
   "id": "cf6a369e-fbd5-40e5-a7e4-450011775cab",
   "metadata": {},
   "source": [
    "##### counting monthwise breakup of number of rides"
   ]
  },
  {
   "cell_type": "code",
   "execution_count": 39,
   "id": "a17490b5-263a-4c89-a32e-7b01e1d7166f",
   "metadata": {},
   "outputs": [
    {
     "data": {
      "text/html": [
       "<iframe\n",
       "    scrolling=\"no\"\n",
       "    width=\"100%\"\n",
       "    height=\"545px\"\n",
       "    src=\"iframe_figures/figure_39.html\"\n",
       "    frameborder=\"0\"\n",
       "    allowfullscreen\n",
       "></iframe>\n"
      ]
     },
     "metadata": {},
     "output_type": "display_data"
    }
   ],
   "source": [
    "fig = px.bar(df_month_summary, x=\"month\", y=\"count\",\n",
    "             color='Rider_type', barmode='group',text_auto=True,\n",
    "                  labels={\"month\": \"Month\",\n",
    "                        \"count\": 'Number of rides'})\n",
    "fig.update_layout(title = f'Monthwise breakup of number of rides for member and casual riders', title_x=0.5)\n",
    "fig.show()\n"
   ]
  },
  {
   "cell_type": "markdown",
   "id": "966781be-a5a6-48f6-beea-a9fc45eb25e2",
   "metadata": {},
   "source": [
    "#### Following are the observations - \n",
    "    \n",
    "    \n",
    " - Total number of rides for both members and casual riders increased consistently upto August and then again start declining consistently from August.\n",
    " \n",
    " - Only difference between ride counts of members and casual riders are that members rides are increased and decreased smoothly as compare to casual riders. i.e. for members it didn't go too low from November to December.\n",
    " \n",
    " - Overall members have **35%(773K)** more number rides as compare to casual members."
   ]
  },
  {
   "cell_type": "markdown",
   "id": "cee00863-3547-4ca5-a0bd-3eb35638b7ef",
   "metadata": {},
   "source": [
    "### Start time analysis for members and casual riders"
   ]
  },
  {
   "cell_type": "code",
   "execution_count": 40,
   "id": "afc7d03b-5edb-498e-8b67-eada9dcef067",
   "metadata": {},
   "outputs": [
    {
     "data": {
      "text/html": [
       "<iframe\n",
       "    scrolling=\"no\"\n",
       "    width=\"100%\"\n",
       "    height=\"545px\"\n",
       "    src=\"iframe_figures/figure_40.html\"\n",
       "    frameborder=\"0\"\n",
       "    allowfullscreen\n",
       "></iframe>\n"
      ]
     },
     "metadata": {},
     "output_type": "display_data"
    }
   ],
   "source": [
    "# plotting histogram of ride start time\n",
    "fig = px.histogram(df.sort_values(by = ['time_started']), x=\"time_started\",color = \"member_casual\", barmode=\"group\",\n",
    "                  labels={\"time_started\": \"Trip start time\",\n",
    "                        \"count\": 'Number of rides',\n",
    "                         \"member_casual\": \"Rider Type\"})\n",
    "\n",
    "fig.update_layout(title = f'Trip start time breakup for member vs casual riders', title_x=0.5)\n",
    "fig.show()"
   ]
  },
  {
   "cell_type": "markdown",
   "id": "41b4c1c1-3880-4fdd-ab03-7308a5560d94",
   "metadata": {},
   "source": [
    "#### Following are the observations - \n",
    "    \n",
    "    \n",
    " - For members there is a small peak time in morning from 7:30 A.M to 8:45 A.M then it droped and pick up again at around 12:00 after that it remained constant around 3:00 P.M, in evening a huge peak appears at around 4:00 P.M and remain upto 6:45 P.M. Morning and evening peak time indicates majority of members using cycle rides for office commute.\n",
    " \n",
    " - For Casual riders there is no peak at morning time but it starts increasing throughout the day and reach its peak at around 4:00 P.M to 6:45 P.M.\n",
    " ."
   ]
  }
 ],
 "metadata": {
  "kernelspec": {
   "display_name": "tfod",
   "language": "python",
   "name": "tfod"
  },
  "language_info": {
   "codemirror_mode": {
    "name": "ipython",
    "version": 3
   },
   "file_extension": ".py",
   "mimetype": "text/x-python",
   "name": "python",
   "nbconvert_exporter": "python",
   "pygments_lexer": "ipython3",
   "version": "3.9.10"
  }
 },
 "nbformat": 4,
 "nbformat_minor": 5
}
